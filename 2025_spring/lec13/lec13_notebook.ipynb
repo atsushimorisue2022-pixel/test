{
 "cells": [
  {
   "cell_type": "markdown",
   "id": "6a424b44",
   "metadata": {},
   "source": [
    "# Speech Understanding \n",
    "# Lecture 13: Speech-enabled web browser"
   ]
  },
  {
   "cell_type": "markdown",
   "id": "b3983e7c",
   "metadata": {},
   "source": [
    "### Mark Hasegawa-Johnson, KCGI"
   ]
  },
  {
   "cell_type": "markdown",
   "id": "0b8ca0a6",
   "metadata": {},
   "source": [
    "1. <a href=\"#section1\">How to open a web page using python</a>\n",
    "1. <a href=\"#section2\">How HTML works</a>\n",
    "1. <a href=\"#section3\">Using BeautifulSoup to extract the content you want</a>\n",
    "1. <a href=\"#section4\">Using BeautifulSoup to explore a real-world webpage</a>\n",
    "1. <a href=\"#section5\">Automatic news announcer</a>\n",
    "1. <a href=\"#homework\">Homework</a>\n"
   ]
  },
  {
   "cell_type": "markdown",
   "id": "97f5b87c",
   "metadata": {},
   "source": [
    "<a id='section1'></a>"
   ]
  },
  {
   "cell_type": "markdown",
   "id": "97a92c75",
   "metadata": {},
   "source": [
    "## 1. How to open a web page using python"
   ]
  },
  {
   "cell_type": "markdown",
   "id": "aa1fa33f",
   "metadata": {},
   "source": [
    "Python has three main packages for dealing with web pages:\n",
    "\n",
    "* `webbrowser` interacts with your system's default web browser\n",
    "* `requests` downloads the text of a web page into python\n",
    "* `BeautifulSoup` parses the text of the web page\n",
    "\n",
    "First, let's try using `webbrowser` to tell our web browser to do something:"
   ]
  },
  {
   "cell_type": "code",
   "execution_count": 2,
   "id": "b11be3e5",
   "metadata": {},
   "outputs": [
    {
     "data": {
      "text/plain": [
       "True"
      ]
     },
     "execution_count": 2,
     "metadata": {},
     "output_type": "execute_result"
    }
   ],
   "source": [
    "import webbrowser\n",
    "webbrowser.open(\"http://wsj.com\")"
   ]
  },
  {
   "cell_type": "markdown",
   "id": "7f2fdd9c",
   "metadata": {},
   "source": [
    "Now let's use the speech recognizer to input the web page:"
   ]
  },
  {
   "cell_type": "code",
   "execution_count": 3,
   "id": "29fa062d",
   "metadata": {},
   "outputs": [
    {
     "name": "stdout",
     "output_type": "stream",
     "text": [
      "Python is listening...\n",
      "Python is listening...\n",
      "Python is listening...\n",
      "Python is listening...\n",
      "Python is listening...\n",
      "Python is listening...\n",
      "You just said where is the worst human .\n"
     ]
    },
    {
     "data": {
      "text/plain": [
       "True"
      ]
     },
     "execution_count": 3,
     "metadata": {},
     "output_type": "execute_result"
    }
   ],
   "source": [
    "import speech_recognition as sr\n",
    "import webbrowser\n",
    "speech = sr.Recognizer()\n",
    "\n",
    "while True:\n",
    "    print('Python is listening...')\n",
    "    with sr.Microphone() as source:\n",
    "        speech.adjust_for_ambient_noise(source)\n",
    "        try:\n",
    "            audio = speech.listen(source)\n",
    "            inp = speech.recognize_google(audio)\n",
    "        except sr.UnknownValueError:\n",
    "            continue\n",
    "        except sr.RequestError:\n",
    "            continue\n",
    "        except sr.WaitTimeoutError:\n",
    "            continue\n",
    "        else:\n",
    "            break\n",
    "print('You just said',inp,'.')\n",
    "inp.replace('browser ', '')\n",
    "webbrowser.open(\"http://\" + inp)\n"
   ]
  },
  {
   "cell_type": "markdown",
   "id": "cead582b",
   "metadata": {},
   "source": [
    "Finally, let's use speech recognition to perform a web search.  To do that, all we need is to replace this line:\n",
    "\n",
    "```webbrowser.open(\"http://\" + inp)```\n",
    "\n",
    "...with this one:\n",
    "\n",
    "```webbrowser.open(\"http://google.com/search?q=\" + inp)```"
   ]
  },
  {
   "cell_type": "code",
   "execution_count": null,
   "id": "126010a6",
   "metadata": {},
   "outputs": [
    {
     "name": "stdout",
     "output_type": "stream",
     "text": [
      "Python is listening...\n",
      "Python is listening...\n",
      "Python is listening...\n",
      "Python is listening...\n",
      "Python is listening...\n",
      "Python is listening...\n",
      "Python is listening...\n"
     ]
    }
   ],
   "source": [
    "import speech_recognition as sr\n",
    "import webbrowser\n",
    "speech = sr.Recognizer()\n",
    "\n",
    "while True:\n",
    "    print('Python is listening...')\n",
    "    with sr.Microphone() as source:\n",
    "        speech.adjust_for_ambient_noise(source)\n",
    "        try:\n",
    "            audio = speech.listen(source)\n",
    "            inp = speech.recognize_google(audio)\n",
    "        except sr.UnknownValueError:\n",
    "            continue\n",
    "        except sr.RequestError:\n",
    "            continue\n",
    "        except sr.WaitTimeoutError:\n",
    "            continue\n",
    "        else:\n",
    "            break\n",
    "print('You just said',inp,'.')\n",
    "inp.replace('browser ', '')\n",
    "webbrowser.open(\"http://google.com/search?q=\" + inp)\n"
   ]
  },
  {
   "cell_type": "markdown",
   "id": "ea42f9fb",
   "metadata": {},
   "source": [
    "<a id='section2'></a>"
   ]
  },
  {
   "cell_type": "markdown",
   "id": "2cc1f1a1",
   "metadata": {},
   "source": [
    "## 2. How HTML works"
   ]
  },
  {
   "cell_type": "markdown",
   "id": "c958c9dc",
   "metadata": {},
   "source": [
    "Web pages are written using the **hypertext markup language (HTML)**.  You can write HTML using special tools, but you can also write it using any plaintext editor.\n",
    "\n",
    "For example, consider the following text:\n",
    "\n",
    "```\n",
    "<html>\n",
    "    <head>\n",
    "        <title>Example Web Page</title>\n",
    "        <style>\n",
    "            .bluetext { color: blue; }\n",
    "            .leftmargin { margin-left: 10px; }\n",
    "        </style>\n",
    "    </head>\n",
    "    <body>\n",
    "        <h1>Test web page</h1>\n",
    "        <p>\n",
    "        Web pages are written using the hypertext markup language (HTML).  You can write HTML using special tools, but you can also write it using any plaintext editor.   The markup in an HTML file is done using tags.  Each tag either opens an envelope, or closes an envelope.  The text in between the opening tag and the closing tag is called the content of the envelope.  Envelopes can be nested, one inside another, as this <b>p</b> tag is nested inside the <b>body</b> tag.\n",
    "        </p>\n",
    "        <p>\n",
    "        \"Hypertext\" is text that includes links.  For example, here are some links:\n",
    "        </p>\n",
    "        <p class=\"leftmargin\">\n",
    "            <a class=\"bluetext\" href=\"https://wikipedia.org\">Wikipedia</a>\n",
    "        </p>\n",
    "        <p class=\"leftmargin\">\n",
    "            <a class=\"bluetext\" href=\"https://www.npr.org\">NPR</a>\n",
    "        </p>\n",
    "    </body>\n",
    "</html>\n",
    "```\n",
    "\n",
    "This shows the content of the file \"testpage.html.\"  If you click on this file, it will render as formatted text.  But if you open it in a text editor, you will see the content shown above."
   ]
  },
  {
   "cell_type": "markdown",
   "id": "5294ca3e",
   "metadata": {},
   "source": [
    "### Tags, Envelopes, and Nesting\n",
    "\n",
    "The formatting commands in HTML come in the form of tags.  There are two types of tags:\n",
    "* An opening command, such as `<p>` opens an envelope (in this case a paragraph)\n",
    "* A closing command, such as `</p>`, closes the envelope\n",
    "\n",
    "Every envelope has **content**.  Some envelopes also have **attributes**.\n",
    "* The **content** of the envelope is the text between the opening-tag and closing-tag.\n",
    "* The **attributes** of the envelope are defined inside the tag.  For example, the text `<a class=\"bluetext\" href=\"https://www.npr.org\">` means that the `<a>` tag has 2 attributes: `class=\"bluetext\"` and `href=\"https://www.npr.org\"`.\n",
    "\n",
    "Envelopes can be nested.  For example, in the example file above, the envelopes are nested like this:\n",
    "\n",
    "\n",
    "```\n",
    "<html>\n",
    "  ├─ <head>\n",
    "  │   ├─ <title>\n",
    "  │   └─ <style>\n",
    "  └─ <body>\n",
    "      ├─ <h1>\n",
    "      ├─ <p>\n",
    "      │  ├─ <b>\n",
    "      │  └─ <b>\n",
    "      ├─ <p>\n",
    "      ├─ <p>\n",
    "      │  └─ <a>\n",
    "      └─ <p>\n",
    "         └─ <a>\n",
    "```"
   ]
  },
  {
   "cell_type": "markdown",
   "id": "da833b82",
   "metadata": {},
   "source": [
    "### Types of HTML tags\n",
    "\n",
    "There are many different tags.  A complete listing is here: https://html.spec.whatwg.org/multipage/\n",
    "\n",
    "The tags used in the example above include:\n",
    "\n",
    "| Tag name | Description |\n",
    "| :- | :- |\n",
    "| \\<html> | A file marked up using HTML |\n",
    "| \\<head> | Header: information that's not visible in the web page |\n",
    "| \\<title> | Title of the page |\n",
    "| \\<style> | Formatting class definitions |\n",
    "| \\<body> | Body: the part that's visible in the web page |\n",
    "| \\<h1> | A top-level header (\\<h2>, \\<h3>, and \\<h4> are lower-level headers) |\n",
    "| \\<p> | A paragraph |\n",
    "| \\<b> | Boldface text |\n",
    "| \\<a> | A hypertext link |\n",
    " \n"
   ]
  },
  {
   "cell_type": "markdown",
   "id": "8b1a4ff2",
   "metadata": {},
   "source": [
    "#### Real web pages\n",
    "\n",
    "A real web page is just like the one above, but more complicated.  To see a useful example, go to <a href=\"https://www.npr.org/\">https://www.npr.org/</a>.  In your browser menu, find the option that says **View Page Source** (in Firefox, that's inside the **Tools** menu), and click on it.\n",
    "\n",
    "Notice that the top of the file is a very long header, including `<script>` and `<style>` tags that will be used later in the page.\n",
    "\n",
    "After the very long header you will find a body, with lists formatted using `<ul>` and `<li>` tags, and with news content in plaintext between the tags."
   ]
  },
  {
   "cell_type": "markdown",
   "id": "731a115a",
   "metadata": {},
   "source": [
    "<a id='section3'></a>"
   ]
  },
  {
   "cell_type": "markdown",
   "id": "59f8148f",
   "metadata": {},
   "source": [
    "## 3. Using BeautifulSoup to extract the content you want"
   ]
  },
  {
   "cell_type": "code",
   "execution_count": null,
   "id": "8cc9c911",
   "metadata": {},
   "outputs": [],
   "source": [
    "!pip install bs4"
   ]
  },
  {
   "cell_type": "markdown",
   "id": "52fb605c",
   "metadata": {},
   "source": [
    "<a href=\"https://www.crummy.com/software/BeautifulSoup/bs4/doc/\">Beatiful Soup</a> is a python package that makes it relatively easy to extract content from web pages.\n",
    "\n",
    "For example, suppose we want to find all of the **p** tags in a document (i.e., all of the paragraphs).  This is done as follows:\n",
    "\n",
    "1. First, parse the whole document using `bs4.BeatifulSoup`\n",
    "1. Second, use `findAll(\"p\")` to return a list of all the p tags\n",
    "\n",
    "That's all!"
   ]
  },
  {
   "cell_type": "code",
   "execution_count": null,
   "id": "adff7bf5-bb36-45a5-b4cb-4321d2c1149e",
   "metadata": {},
   "outputs": [],
   "source": [
    "from bs4 import BeautifulSoup\n",
    "html_content = \"<p>Sample paragraph with a <a href='link'>link</a>.</p>\"\n",
    "soup = BeautifulSoup(html_content, \"html.parser\")\n",
    "ptags = soup.find_all(\"p\")\n"
   ]
  },
  {
   "cell_type": "code",
   "execution_count": null,
   "id": "9a148c64",
   "metadata": {},
   "outputs": [],
   "source": [
    "import bs4\n",
    "\n",
    "with open(\"testpage.html\") as f:\n",
    "    example_soup = bs4.BeautifulSoup(f, \"html.parser\")\n",
    "\n",
    "ptags = example_soup.findAll(\"p\")\n",
    "print(\"There are\", len(ptags), \"paragraphs in the document.\\n\")\n",
    "print(\"The first one is:\\n\")\n",
    "print(ptags[0], \"\\n\")\n",
    "print(\"The third one is:\\n\")\n",
    "print(ptags[2], \"\\n\")\n",
    "\n",
    "print(\"The children of the third paragraph are:\\n\")\n",
    "print(ptags[2].contents)"
   ]
  },
  {
   "cell_type": "markdown",
   "id": "fb9051c8",
   "metadata": {},
   "source": [
    "Suppose you know that the third paragraph contains a hyperlink.  You can use `find(\"a\")` to return the first **a** tag inside the corresponding paragraph:"
   ]
  },
  {
   "cell_type": "code",
   "execution_count": null,
   "id": "e14f2a8e",
   "metadata": {},
   "outputs": [],
   "source": [
    "atag = ptags[2].find(\"a\")\n",
    "\n",
    "print(\"The href attribute of the hyperlink in paragraph 3 is:\",atag['href'])\n",
    "\n",
    "print(\"The text content of that hyperlink is:\", atag.text)\n"
   ]
  },
  {
   "cell_type": "markdown",
   "id": "4b7021f5",
   "metadata": {},
   "source": [
    "<a id='section4'></a>"
   ]
  },
  {
   "cell_type": "markdown",
   "id": "323c3007",
   "metadata": {},
   "source": [
    "## 4. Using BeautifulSoup to explore a real-world web page\n",
    "\n",
    "Now let's use BeautifulSoup to explore the NPR web page."
   ]
  },
  {
   "cell_type": "code",
   "execution_count": null,
   "id": "4321b525",
   "metadata": {},
   "outputs": [],
   "source": [
    "import bs4, requests\n",
    "webpage = requests.get(\"https://npr.org\")\n",
    "npr_soup = bs4.BeautifulSoup(webpage.text, \"html.parser\")\n",
    "\n",
    "ptags = npr_soup.findAll(\"p\")\n",
    "print(\"There are\", len(ptags), \"paragraphs in the document.\\n\")\n",
    "print(\"The first one is:\\n\")\n",
    "print(ptags[0], \"\\n\")\n",
    "print(\"The third one is:\\n\")\n",
    "print(ptags[2], \"\\n\")\n"
   ]
  },
  {
   "cell_type": "markdown",
   "id": "7a18ad17",
   "metadata": {},
   "source": [
    "The news items in the NPR web page are stored in `<div>` envelopes with a special class: they are called `<div class=\"story-text\">`.  Let's list those."
   ]
  },
  {
   "cell_type": "code",
   "execution_count": null,
   "id": "343ff971",
   "metadata": {},
   "outputs": [],
   "source": [
    "div_tags = npr_soup.find_all('div', 'story-text')\n",
    "\n",
    "print(\"There are\", len(div_tags), \"story text sections.\\n\")\n",
    "print(\"The first one is:\\n\")\n",
    "print(div_tags[0],\"\\n\")\n",
    "print(\"The third one is:\\n\")\n",
    "print(div_tags[2],\"\\n\")"
   ]
  },
  {
   "cell_type": "markdown",
   "id": "e39a5c4f",
   "metadata": {},
   "source": [
    "If you look through those `story-text` sections, you can see that there are only two parts that might sound good if spoken out loud:\n",
    "\n",
    "* Each of them has a title, called `<h3 class=\"title\">`\n",
    "* One of them also has a teaser, called `<p class=\"teaser\">`.\n",
    "\n",
    "Let's write a function that extracts a list of story-texts from the NPR web page, and returns a tuple containing the title and (if it exists) the teaser for each of them."
   ]
  },
  {
   "cell_type": "code",
   "execution_count": null,
   "id": "dbea56fd",
   "metadata": {},
   "outputs": [],
   "source": [
    "def get_stories(soup):\n",
    "    stories = []\n",
    "    for div_tag in soup.find_all('div', 'story-text'):\n",
    "        titletag = div_tag.find('h3', 'title')\n",
    "        teasertag = div_tag.find('p', 'teaser')\n",
    "        \n",
    "        if teasertag != None:\n",
    "            stories.append((titletag.text, teasertag.text))\n",
    "        else:\n",
    "            stories.append((titletag.text, \"\"))\n",
    "    return stories"
   ]
  },
  {
   "cell_type": "code",
   "execution_count": null,
   "id": "9227cf8e",
   "metadata": {},
   "outputs": [],
   "source": [
    "stories = get_stories(npr_soup)\n",
    "print(\"There are\", len(stories), \"stories.\\n\")\n",
    "for n in range(5):\n",
    "    print(\"Story number %d:\"%(n))\n",
    "    print(stories[n], \"\\n\")\n"
   ]
  },
  {
   "cell_type": "markdown",
   "id": "5e65b702",
   "metadata": {},
   "source": [
    "<a id='section5'></a>"
   ]
  },
  {
   "cell_type": "markdown",
   "id": "f238c7ab",
   "metadata": {},
   "source": [
    "## 5. Automatic news announcer"
   ]
  },
  {
   "cell_type": "markdown",
   "id": "500c2dc3",
   "metadata": {},
   "source": [
    "Let's use **gtts** to make an automatic news announcer.  We want our announcer to\n",
    "\n",
    "1. Print all of the stories on a webpage, showing only the title of each.\n",
    "1. Ask the user to enter a number.\n",
    "1. Read out loud the user's desired story, including both title and teaser.\n",
    "\n",
    "Let's create this as two functions: `read_story_list` and `read_nth_story`."
   ]
  },
  {
   "cell_type": "code",
   "execution_count": null,
   "id": "e9815946",
   "metadata": {},
   "outputs": [],
   "source": [
    "import gtts\n",
    "\n",
    "def read_story_list(stories, filename):\n",
    "    text = \"Here is a list of today's top stories.\"\n",
    "    for n, story in enumerate(stories):\n",
    "        text += \"Story Number %d: %s.\\n\"%(n, story[0])\n",
    "    gtts.gTTS(text=text, lang=\"en\").save(filename)\n",
    "        \n",
    "def read_nth_story(stories, n, filename):\n",
    "    gtts.gTTS(text=stories[n][0]+\" \"+stories[n][1], lang=\"en\").save(filename)"
   ]
  },
  {
   "cell_type": "code",
   "execution_count": null,
   "id": "832e9140",
   "metadata": {},
   "outputs": [],
   "source": [
    "import librosa, IPython\n",
    "\n",
    "read_story_list(stories, 'test.mp3')\n",
    "x, fs = librosa.load('test.mp3')\n",
    "IPython.display.Audio(data=x, rate=fs)"
   ]
  },
  {
   "cell_type": "code",
   "execution_count": null,
   "id": "92b7f5b3",
   "metadata": {},
   "outputs": [],
   "source": [
    "choice = input('Which story should I read?')\n",
    "read_nth_story(stories, int(choice), 'test.mp3')\n",
    "x, fs = librosa.load('test.mp3')\n",
    "IPython.display.Audio(data=x, rate=fs)\n"
   ]
  },
  {
   "cell_type": "code",
   "execution_count": null,
   "id": "bcd5a4d9-8bfd-49ff-b165-73b46e72e3d8",
   "metadata": {},
   "outputs": [],
   "source": []
  },
  {
   "cell_type": "markdown",
   "id": "564707ab",
   "metadata": {},
   "source": [
    "<a id='homework'></a>"
   ]
  },
  {
   "cell_type": "code",
   "execution_count": null,
   "id": "ea3a22ec-1b04-45df-b438-6fa052d3ca85",
   "metadata": {},
   "outputs": [],
   "source": []
  },
  {
   "cell_type": "markdown",
   "id": "4e6b32d4",
   "metadata": {},
   "source": [
    "## Homework"
   ]
  },
  {
   "cell_type": "markdown",
   "id": "3107ba81",
   "metadata": {},
   "source": [
    "### Homework 13.1: Extract stories from NPR text"
   ]
  },
  {
   "cell_type": "code",
   "execution_count": null,
   "id": "a5cf5c71",
   "metadata": {
    "scrolled": true
   },
   "outputs": [],
   "source": [
    "import homework13, importlib\n",
    "importlib.reload(homework13)\n",
    "help(homework13.extract_stories_from_NPR_text)"
   ]
  },
  {
   "cell_type": "markdown",
   "id": "0610a919",
   "metadata": {},
   "source": [
    "Notice that: `extract_stories_from_NPR_text` is almost the same as `get_stories`, but it starts from the webpage text, not from the soup.  So you need to run `soup = bs4.BeautifulSoup(text, \"html.parser\")`, and then you re-use the rest of the code from `get_stories`.\n",
    "\n"
   ]
  },
  {
   "cell_type": "markdown",
   "id": "72b604f4",
   "metadata": {},
   "source": [
    "### Homework 13.2: read_nth_story"
   ]
  },
  {
   "cell_type": "code",
   "execution_count": null,
   "id": "0e2f459d",
   "metadata": {},
   "outputs": [],
   "source": [
    "importlib.reload(homework13)\n",
    "help(homework13.read_nth_story)"
   ]
  },
  {
   "cell_type": "markdown",
   "id": "a64233ce",
   "metadata": {},
   "source": [
    "Once you've replaced all of the `raise RuntimeError` lines with code that works,\n",
    "\n",
    "1. Try your code in the following code block.  Once you get it to work here, then\n",
    "1. Run the grading block at the very end.  Once that grading block shows a score of 100%, then\n",
    "1. Commit your changed notebook, and push it to github.com."
   ]
  },
  {
   "cell_type": "code",
   "execution_count": null,
   "id": "73ad19aa",
   "metadata": {},
   "outputs": [],
   "source": [
    "import homework13, requests, IPython, importlib, librosa\n",
    "importlib.reload(homework13)\n",
    "\n",
    "webpage = requests.get(\"https://npr.org\")\n",
    "stories = homework13.extract_stories_from_NPR_text(webpage.text)\n",
    "homework12.read_nth_story(stories, 0, 'test.mp3')\n",
    "\n",
    "x, fs = librosa.load('test.mp3')\n",
    "IPython.display.Audio(data=x, rate=fs)\n"
   ]
  },
  {
   "cell_type": "markdown",
   "id": "d8c14212",
   "metadata": {},
   "source": [
    "### Receiving your grade\n",
    "\n",
    "In order to receive a grade for your homework, you need to:\n",
    "\n",
    "1. Run the following code block on your machine.  The result may list some errors, and then in the very last line, it will show a score.  That score (between 0% and 100%) is the grade you have earned so far.  If you want to earn a higher grade, please continue editing `homework3.py`, and then run this code block again.\n",
    "1. When you are happy with your score (e.g., when it reaches 100%), choose `File` $\\Rightarrow$ `Save and Checkpoint`.  Then use `GitHub Desktop` to commit and push your changes.\n",
    "1. Make sure that the 100% shows on your github repo on github.com.  If it doesn't, you will not receive credit."
   ]
  },
  {
   "cell_type": "code",
   "execution_count": null,
   "id": "ddb5b8bc",
   "metadata": {},
   "outputs": [],
   "source": [
    "import importlib, grade\n",
    "importlib.reload(grade)"
   ]
  },
  {
   "cell_type": "code",
   "execution_count": null,
   "id": "5d618ce6",
   "metadata": {},
   "outputs": [],
   "source": []
  },
  {
   "cell_type": "code",
   "execution_count": null,
   "id": "5e2fcc72-cc16-4c9f-bdc1-3f0556c4c39d",
   "metadata": {},
   "outputs": [],
   "source": []
  },
  {
   "cell_type": "code",
   "execution_count": null,
   "id": "f9102bde-7a89-4ce0-94c0-1061ff018d9a",
   "metadata": {},
   "outputs": [],
   "source": []
  }
 ],
 "metadata": {
  "kernelspec": {
   "display_name": "Python 3 (ipykernel)",
   "language": "python",
   "name": "python3"
  },
  "language_info": {
   "codemirror_mode": {
    "name": "ipython",
    "version": 3
   },
   "file_extension": ".py",
   "mimetype": "text/x-python",
   "name": "python",
   "nbconvert_exporter": "python",
   "pygments_lexer": "ipython3",
   "version": "3.13.5"
  }
 },
 "nbformat": 4,
 "nbformat_minor": 5
}
